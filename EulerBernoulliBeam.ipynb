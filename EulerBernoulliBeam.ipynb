{
 "cells": [
  {
   "cell_type": "markdown",
   "metadata": {},
   "source": [
    "# Numerical modelling of Euler-Bernoulli beam\n",
    "The effects of different applications of the same total mass are evaluated with a numerical approach"
   ]
  },
  {
   "cell_type": "code",
   "execution_count": 1,
   "metadata": {},
   "outputs": [
    {
     "name": "stderr",
     "output_type": "stream",
     "text": [
      "D:\\Programs\\lib\\site-packages\\IPython\\html.py:14: ShimWarning: The `IPython.html` package has been deprecated since IPython 4.0. You should import from `notebook` instead. `IPython.html.widgets` has moved to `ipywidgets`.\n",
      "  \"`IPython.html.widgets` has moved to `ipywidgets`.\", ShimWarning)\n"
     ]
    }
   ],
   "source": [
    "import numpy as np\n",
    "import matplotlib.pyplot as plt\n",
    "%matplotlib inline\n",
    "from pylab import * #import ones and diags\n",
    "from IPython.html.widgets import interact"
   ]
  },
  {
   "cell_type": "code",
   "execution_count": 2,
   "metadata": {},
   "outputs": [],
   "source": [
    "# Material parameters\n",
    "E = 3*10**10       # Young's modulus\n",
    "rho = 2400         # Material density\n",
    "g = 9.8            # Gravitional acceleration\n",
    "m = 100            # Mass\n",
    "S = 10**4          # Cross-sectional area\n",
    "L = 5.0            # Beam length\n",
    "b = 0.04           # Beam width\n",
    "d = 0.1            # Beam height\n",
    "s = 1.0            # Step size\n",
    "\n",
    "# Define Moment of Inertia   \n",
    "def inertia(b,d):\n",
    "    I = (1/12.)*b*d**3\n",
    "    return I\n",
    "\n",
    "I = inertia(b,d)  \n",
    "\n",
    "# The deflection w that has to be calculated is the solution of the Matrix-equation: Aw = q\n",
    "# In the following section matrix A will be defined, as well as vector q, consisting of qm (applied load) and qeig (own weight)\n",
    "\n",
    "def matrix(L,h,E,I,S):\n",
    "    N = int(L/h)\n",
    "    #Determine Submatrix K\n",
    "    C1 = (E*I)/(h**4)\n",
    "    d0 = 6*np.ones(N-1)  # main diagonal\n",
    "    d0[0] = 5  # first value of main diagonal is 1\n",
    "    d0[-1] = 5 # last value of main diagonal is 1\n",
    "    dplus1 = -4*ones(N-2) # diagonal right above main diagonal, position 1\n",
    "    dmin1 = -4*ones(N-2)  # diagonal right below main diagonal, position -1\n",
    "    dplus2 = ones(N-3) # diagonal above main diagonal, position 2\n",
    "    dmin2 = ones(N-3)  # diagonal below main diagonal, position -2\n",
    "    K = C1* (diag(d0,0) + diag(dplus1,1) + diag(dmin1,-1) + diag(dplus2,2) + diag(dmin2,-2))\n",
    "    #Determine Submatrix M\n",
    "    C2 = S/(h**2)\n",
    "    d0 = -2*ones(N-1)  # main diagonal\n",
    "    dplus1 = ones(N-2) # diagonal right above main diagonal, position 1\n",
    "    dmin1 = ones(N-2)  # diagonal right below main diagonal, position -1\n",
    "    M = C2*(diag(d0,0) + diag(dplus1,1) + diag(dmin1,-1))\n",
    "    #Resulting A\n",
    "    A = K+M\n",
    "    return A\n",
    "\n",
    "#Define vector q over Length of beam (qeig + qm)\n",
    "#Vector q due to eigengewicht (qeig)\n",
    "def qeig(rho,b,d,g,L,h):\n",
    "    N = int(L/h)\n",
    "    qeig = np.zeros(N-1)\n",
    "    q = rho*b*d*g\n",
    "    for i in range(len(qeig)):\n",
    "        qeig[i] = q\n",
    "    return qeig\n",
    "\n",
    "# Vector q due to load (qm)\n",
    "def qm(m,s,g,L,h):\n",
    "    N = int(L/h)\n",
    "    qm = np.zeros(N-1)\n",
    "    x = np.linspace(h,L-h,N-1)\n",
    "    for i in range(len(qm)):\n",
    "        if x[i]<((L/2.)-(s/2.)):\n",
    "            qm[i] = 0.0\n",
    "        elif x[i]>((L/2.)+(s/2.)):\n",
    "            qm[i] = 0.0\n",
    "        elif x[i] == ((L/2.)-(s/2.)):\n",
    "            qm[i] = (m/(2*s))*g\n",
    "        elif x[i] == ((L/2.)+(s/2.)):\n",
    "            qm[i] = (m/(2*s))*g\n",
    "        else:\n",
    "            qm[i] = (m/s)*g \n",
    "    return qm\n",
    "\n",
    "# The deflection vector w is than calculated by solving Aw = q\n",
    "\n",
    "def w(q,A):\n",
    "    wmiddle = np.linalg.solve(A,q)\n",
    "    w = np.zeros(len(wmiddle)+ 2)\n",
    "    for i in range(len(wmiddle)):\n",
    "        w[i+1] = wmiddle[i]\n",
    "    return w\n",
    "\n"
   ]
  },
  {
   "cell_type": "code",
   "execution_count": 3,
   "metadata": {},
   "outputs": [
    {
     "name": "stderr",
     "output_type": "stream",
     "text": [
      "D:\\Programs\\lib\\site-packages\\ipykernel_launcher.py:13: DeprecationWarning: object of type <class 'float'> cannot be safely interpreted as an integer.\n",
      "  del sys.path[0]\n"
     ]
    },
    {
     "data": {
      "image/png": "[encoded data removed]",
      "text/plain": [
       "<Figure size 432x288 with 1 Axes>"
      ]
     },
     "metadata": {
      "needs_background": "light"
     },
     "output_type": "display_data"
    },
    {
     "name": "stdout",
     "output_type": "stream",
     "text": [
      "  h            w             \n",
      "   0.0:     0.0000000e+00\n",
      "   0.5:     1.3387772e-02\n",
      "   1.0:     2.5563750e-02\n",
      "   1.5:     3.5405234e-02\n",
      "   2.0:     4.1906687e-02\n",
      "   2.5:     4.4204872e-02\n",
      "   3.0:     4.1906687e-02\n",
      "   3.5:     3.5405234e-02\n",
      "   4.0:     2.5563750e-02\n",
      "   4.5:     1.3387772e-02\n",
      "   5.0:     0.0000000e+00\n",
      "\n",
      "The maximum deflection due to own weight attains a value of  0.01037435024811161\n",
      "The maximum deflection due to total load attains a value of  0.044204872478085716\n"
     ]
    }
   ],
   "source": [
    "# Calculation of matrix A, vector q and vector w for h=0.5\n",
    "\n",
    "h = 0.5\n",
    "N = L/h\n",
    "A = matrix(L,h,E,I,S)\n",
    "q_eig = qeig(rho,b,d,g,L,h)\n",
    "q_m = qm(m,s,g,L,h)\n",
    "q_tot = q_eig + q_m\n",
    "w_eig = w(q_eig,A)\n",
    "w_tot = w(q_tot,A)\n",
    "\n",
    "# Plot deflections for h=0.5\n",
    "x_array = np.linspace(0.0,L,N+1)\n",
    "plt.plot(x_array, w_eig, 'r', label = 'Deflection by own weight')\n",
    "plt.plot(x_array, w_tot, 'b', label = 'Deflection by applied load')\n",
    "plt.legend((\"$w_{eig}$\", \"$w_{tot}$\"),\n",
    "           loc=\"upper right\", shadow=True)\n",
    "plt.xlabel(\"$x$\")\n",
    "plt.ylabel(\"$w$\")\n",
    "plt.title(\"Deflection w over L\")\n",
    "plt.show()\n",
    "\n",
    "# Table of deflections by total load (qm + qeig) for h=0.5\n",
    "table = \"  h            w             \\n\"\n",
    "for k in range(int(N+1)):\n",
    "    table = table + \"{:6.1f}: {:17.7e}\\n\".format(\n",
    "        x_array[k],w_tot[k])\n",
    "print (table)\n",
    "\n",
    "print (\"The maximum deflection due to own weight attains a value of \", max(w_eig))\n",
    "print (\"The maximum deflection due to total load attains a value of \", max(w_tot))\n"
   ]
  },
  {
   "cell_type": "code",
   "execution_count": 4,
   "metadata": {},
   "outputs": [
    {
     "name": "stderr",
     "output_type": "stream",
     "text": [
      "D:\\Programs\\lib\\site-packages\\ipykernel_launcher.py:13: DeprecationWarning: object of type <class 'float'> cannot be safely interpreted as an integer.\n",
      "  del sys.path[0]\n"
     ]
    },
    {
     "data": {
      "image/png": "[encoded data removed]",
      "text/plain": [
       "<Figure size 432x288 with 1 Axes>"
      ]
     },
     "metadata": {
      "needs_background": "light"
     },
     "output_type": "display_data"
    },
    {
     "name": "stdout",
     "output_type": "stream",
     "text": [
      "The maximum deflection due to own weight attains a value of  0.010263726714048991\n",
      "The maximum deflection due to total load attains a value of  0.043704159607902006\n",
      "Maximum load equals:  119.0\n",
      "  mass     max deflection             \n",
      " 115.0:     4.8720225e-02\n",
      " 115.5:     4.8887427e-02\n",
      " 116.0:     4.9054629e-02\n",
      " 116.5:     4.9221831e-02\n",
      " 117.0:     4.9389033e-02\n",
      " 117.5:     4.9556235e-02\n",
      " 118.0:     4.9723438e-02\n",
      " 118.5:     4.9890640e-02\n",
      " 119.0:     5.0057842e-02\n",
      " 119.5:     5.0225044e-02\n",
      " 120.0:     5.0392246e-02\n",
      " 120.5:     5.0559448e-02\n",
      " 121.0:     5.0726651e-02\n",
      " 121.5:     5.0893853e-02\n",
      " 122.0:     5.1061055e-02\n",
      " 122.5:     5.1228257e-02\n",
      " 123.0:     5.1395459e-02\n",
      " 123.5:     5.1562661e-02\n",
      " 124.0:     5.1729864e-02\n",
      " 124.5:     5.1897066e-02\n",
      "\n",
      "\n"
     ]
    }
   ],
   "source": [
    "# Calculation of matrix A, vector q and vector w for h=0.05\n",
    "\n",
    "h = 0.05\n",
    "N = L/h\n",
    "A = matrix(L,h,E,I,S)\n",
    "q_eig = qeig(rho,b,d,g,L,h)\n",
    "q_m = qm(m,s,g,L,h)\n",
    "q_tot = q_eig + q_m\n",
    "w_eig = w(q_eig,A)\n",
    "w_tot = w(q_tot,A)\n",
    "\n",
    "# Plot deflections for h=0.05\n",
    "x_array = np.linspace(0.0,L,N+1)\n",
    "plt.plot(x_array, w_eig, 'r', label = 'Deflection by own weight')\n",
    "plt.plot(x_array, w_tot, 'b', label = 'Deflection by applied load')\n",
    "plt.legend((\"$w_{eig}$\", \"$w_{tot}$\"),\n",
    "           loc=\"upper right\", shadow=True)\n",
    "plt.xlabel(\"$x$\")\n",
    "plt.ylabel(\"$w$\")\n",
    "plt.title(\"Deflection w over L\")\n",
    "plt.show()\n",
    "\n",
    "print (\"The maximum deflection due to own weight attains a value of \", max(w_eig))\n",
    "print (\"The maximum deflection due to total load attains a value of \", max(w_tot))\n",
    "\n",
    "def mass_defl_table(N):\n",
    "    m = np.linspace(115,125,N+1)\n",
    "    \n",
    "    # create vector with maximum deflections for each value of mass\n",
    "    y = np.zeros(len(m))\n",
    "    for i in range(len(m)):\n",
    "        q = qeig(rho,b,d,g,L,h)+qm(m[i],s,g,L,h)\n",
    "        y[i] = max(w(q,A))\n",
    "        \n",
    "    # create vector for difference between maximum deflection and 0.05 (max allowable deflection)\n",
    "    y1 = np.zeros(len(m))\n",
    "    for i in range(len(y)):\n",
    "        y1[i] = abs(y[i] - 0.05)\n",
    "        \n",
    "    # select mass for which the difference between max defl. and 0.05 is smallest\n",
    "    for i in range(len(y)):\n",
    "        if y1[i] == min(y1):\n",
    "            print (\"Maximum load equals: \",m[i])\n",
    "            \n",
    "    # create table for mass and deflection\n",
    "    table = \"  mass     max deflection             \\n\"\n",
    "    for k in range(N):\n",
    "        table = table + \"{:6.1f}: {:17.7e}\\n\".format(\n",
    "            m[k],y[k])\n",
    "    print (table)\n",
    "    return \"\"\n",
    "\n",
    "print (mass_defl_table(20))"
   ]
  },
  {
   "cell_type": "code",
   "execution_count": 5,
   "metadata": {},
   "outputs": [
    {
     "name": "stderr",
     "output_type": "stream",
     "text": [
      "D:\\Programs\\lib\\site-packages\\ipykernel_launcher.py:4: DeprecationWarning: object of type <class 'float'> cannot be safely interpreted as an integer.\n",
      "  after removing the cwd from sys.path.\n"
     ]
    },
    {
     "data": {
      "text/plain": [
       "<matplotlib.legend.Legend at 0x2fdf50390>"
      ]
     },
     "execution_count": 5,
     "metadata": {},
     "output_type": "execute_result"
    },
    {
     "data": {
      "image/png": "[encoded data removed]",
      "text/plain": [
       "<Figure size 432x288 with 1 Axes>"
      ]
     },
     "metadata": {
      "needs_background": "light"
     },
     "output_type": "display_data"
    }
   ],
   "source": [
    "# Instead of the original load, the total applied load can be approximated by an adapted load\n",
    "\n",
    "m = 100\n",
    "x = np.linspace(h,L-h,N-1)\n",
    "Am = (m*np.pi)/(2*L)\n",
    "# Defining the adapted load\n",
    "def qm2 (Am,g,x,L):\n",
    "    q = Am *g*np.sin(np.pi*x/L)\n",
    "    return q\n",
    "\n",
    "# Printing both the original and the adapted load\n",
    "\n",
    "plt.plot(x,qm(m,s,g,L,h), label = 'original load')\n",
    "plt.plot(x,qm2(Am,g,x,L), label = 'adapted load')\n",
    "plt.legend(loc=0)"
   ]
  },
  {
   "cell_type": "code",
   "execution_count": 6,
   "metadata": {},
   "outputs": [
    {
     "name": "stderr",
     "output_type": "stream",
     "text": [
      "D:\\Programs\\lib\\site-packages\\ipykernel_launcher.py:7: DeprecationWarning: object of type <class 'float'> cannot be safely interpreted as an integer.\n",
      "  import sys\n",
      "D:\\Programs\\lib\\site-packages\\ipykernel_launcher.py:23: DeprecationWarning: object of type <class 'float'> cannot be safely interpreted as an integer.\n"
     ]
    },
    {
     "data": {
      "image/png": "[encoded data removed]",
      "text/plain": [
       "<Figure size 432x288 with 1 Axes>"
      ]
     },
     "metadata": {
      "needs_background": "light"
     },
     "output_type": "display_data"
    },
    {
     "name": "stdout",
     "output_type": "stream",
     "text": [
      "The maximum deflection due to original additional load attains a value of  0.043704159607902006\n",
      "The maximum deflection due to adapted additional load attains a value of  0.0367240777662105\n"
     ]
    }
   ],
   "source": [
    "# In this section the effects of the adapted load vs. the original load on the deflection are investigated\n",
    "\n",
    "h = 0.05\n",
    "N = L/h\n",
    "A = matrix(L,h,E,I,S)\n",
    "Am = (m*np.pi)/(2*L)\n",
    "x = np.linspace(h,L-h,N-1)\n",
    "q_eig = qeig(rho,b,d,g,L,h)\n",
    "\n",
    "# qm as the original additional load\n",
    "q_m1 = qm(m,s,g,L,h)\n",
    "q_tot1 = q_eig + q_m1\n",
    "# qm as the adapted additional load\n",
    "q_m2 = qm2(Am,g,x,L)\n",
    "q_tot2 = q_eig + q_m2\n",
    "\n",
    "# deflection as a result of original additional load\n",
    "w_tot1 = w(q_tot1,A)\n",
    "# deflection as a result of original additional load\n",
    "w_tot2 = w(q_tot2,A)\n",
    "\n",
    "# Plot deflections for h=0.05 for the original additional load and the adapted additional load\n",
    "x_array = np.linspace(0.0,L,N+1)\n",
    "plt.plot(x_array, w_tot1, 'r', label = 'Deflection by original additional load')\n",
    "plt.plot(x_array, w_tot2, 'b', label = 'Deflection by adapted additional load')\n",
    "plt.legend((\"$w_{original}$\", \"$w_{adapted}$\"),\n",
    "           loc=\"upper right\", shadow=True)\n",
    "plt.xlabel(\"$x$\")\n",
    "plt.ylabel(\"$w$\")\n",
    "plt.title(\"Deflection w over L\")\n",
    "plt.show()\n",
    "\n",
    "print (\"The maximum deflection due to original additional load attains a value of \", max(w_tot1))\n",
    "print (\"The maximum deflection due to adapted additional load attains a value of \", max(w_tot2))"
   ]
  },
  {
   "cell_type": "code",
   "execution_count": 7,
   "metadata": {},
   "outputs": [
    {
     "name": "stdout",
     "output_type": "stream",
     "text": [
      "  mass     max deflection             \n",
      " 145.0:     4.8631236e-02\n",
      " 145.5:     4.8763537e-02\n",
      " 146.0:     4.8895839e-02\n",
      " 146.5:     4.9028141e-02\n",
      " 147.0:     4.9160443e-02\n",
      " 147.5:     4.9292745e-02\n",
      " 148.0:     4.9425046e-02\n",
      " 148.5:     4.9557348e-02\n",
      " 149.0:     4.9689650e-02\n",
      " 149.5:     4.9821952e-02\n",
      " 150.0:     4.9954253e-02\n",
      " 150.5:     5.0086555e-02\n",
      " 151.0:     5.0218857e-02\n",
      " 151.5:     5.0351159e-02\n",
      " 152.0:     5.0483460e-02\n",
      " 152.5:     5.0615762e-02\n",
      " 153.0:     5.0748064e-02\n",
      " 153.5:     5.0880366e-02\n",
      " 154.0:     5.1012667e-02\n",
      " 154.5:     5.1144969e-02\n",
      " 155.0:     5.1277271e-02\n",
      "\n",
      "\n",
      "Maximum allowable mass for adapted additional load equals:  150.0\n"
     ]
    }
   ],
   "source": [
    "# As the maximum deflection resulting from the adapted load differs from the result from the original load,\n",
    "# the maximum mass before the deflection limit is reached will also differ. Below is looked at this maximum\n",
    "# allowable mass.\n",
    "\n",
    "def max_mass(number):\n",
    "    m = np.linspace(145,155,number+1)\n",
    "    y = np.zeros(number+1)\n",
    "    for i in range(number+1):\n",
    "        q_tot = qeig(rho,b,d,g,L,h) + qm2((m[i]*np.pi)/(2*L),g,x,L)\n",
    "        y[i] = max(w(q_tot,A))\n",
    "    table = \"  mass     max deflection             \\n\"\n",
    "    for k in range(number+1):\n",
    "        table = table + \"{:6.1f}: {:17.7e}\\n\".format(\n",
    "            m[k],y[k])\n",
    "    print (table)\n",
    "    return \"\"\n",
    "\n",
    "print (max_mass(20))\n",
    "\n",
    "print (\"Maximum allowable mass for adapted additional load equals: \", 150.0)"
   ]
  },
  {
   "cell_type": "code",
   "execution_count": null,
   "metadata": {},
   "outputs": [],
   "source": []
  }
 ],
 "metadata": {
  "kernelspec": {
   "display_name": "Python 3",
   "language": "python",
   "name": "python3"
  },
  "language_info": {
   "codemirror_mode": {
    "name": "ipython",
    "version": 3
   },
   "file_extension": ".py",
   "mimetype": "text/x-python",
   "name": "python",
   "nbconvert_exporter": "python",
   "pygments_lexer": "ipython3",
   "version": "3.7.0"
  }
 },
 "nbformat": 4,
 "nbformat_minor": 1
}
